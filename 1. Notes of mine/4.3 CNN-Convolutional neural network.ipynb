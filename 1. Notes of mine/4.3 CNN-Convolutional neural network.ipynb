{
  "nbformat": 4,
  "nbformat_minor": 0,
  "metadata": {
    "colab": {
      "provenance": []
    },
    "kernelspec": {
      "name": "python3",
      "display_name": "Python 3"
    },
    "language_info": {
      "name": "python"
    }
  },
  "cells": [
    {
      "cell_type": "markdown",
      "source": [
        "#Importing Libraries"
      ],
      "metadata": {
        "id": "YQUn4v7IEm-Z"
      }
    },
    {
      "cell_type": "code",
      "source": [
        "# Sequential API to create models\n",
        "from keras.models import Sequential\n",
        "\n",
        "# Components to create a model\n",
        "from keras.layers import Dense, Input, Conv2D, MaxPooling2D, Flatten\n",
        "\n",
        "# Stochastic Gradient Descent Algorithm\n",
        "from keras.optimizers import SGD\n",
        "\n",
        "# Keras already hosted MNIST dataset for us\n",
        "from keras.datasets import mnist\n",
        "\n",
        "# A Keras utility to binarize integers\n",
        "from keras.utils import to_categorical\n",
        "\n",
        "# A Keras utility to visualize model graph\n",
        "from keras.utils import plot_model\n",
        "\n",
        "# Another ML library that has many utilities for image operation\n",
        "import skimage\n",
        "\n",
        "# Here we will use only two of its utilities\n",
        "from skimage.io import imshow\n",
        "\n",
        "# Another python library for plotting things\n",
        "import matplotlib.pyplot as plt\n",
        "\n",
        "# Another python library to manipulate vectors, matrices, arrays etc.\n",
        "import numpy as np"
      ],
      "metadata": {
        "id": "RfczeqJCEpQw"
      },
      "execution_count": null,
      "outputs": []
    },
    {
      "cell_type": "markdown",
      "source": [
        "#Hyperparameters Parameters"
      ],
      "metadata": {
        "id": "K-Kd7hY3Fpz2"
      }
    },
    {
      "cell_type": "code",
      "source": [
        "# Whole dataset splits into batches\n",
        "batch_size = 128\n",
        "# Number of labels of our dataset\n",
        "num_classes = 10\n",
        "# Number of times we want to train the model\n",
        "nb_epoch = 10"
      ],
      "metadata": {
        "id": "-ge4UKVEFkkW"
      },
      "execution_count": null,
      "outputs": []
    },
    {
      "cell_type": "markdown",
      "source": [
        "#Load Data"
      ],
      "metadata": {
        "id": "jn37_lO6F20U"
      }
    },
    {
      "cell_type": "code",
      "source": [
        "# Load MNIST dataset\n",
        "# Data split into two sub-set: Training and Test\n",
        "(X_train, y_train), (X_test, y_test) = mnist.load_data()"
      ],
      "metadata": {
        "colab": {
          "base_uri": "https://localhost:8080/"
        },
        "id": "xMWNfUysFkdi",
        "outputId": "69bdc20f-a86c-4755-c7ec-8f9f09b50f37"
      },
      "execution_count": null,
      "outputs": [
        {
          "output_type": "stream",
          "name": "stdout",
          "text": [
            "Downloading data from https://storage.googleapis.com/tensorflow/tf-keras-datasets/mnist.npz\n",
            "11490434/11490434 [==============================] - 0s 0us/step\n"
          ]
        }
      ]
    },
    {
      "cell_type": "markdown",
      "source": [
        "#Data Statistics"
      ],
      "metadata": {
        "id": "D5WnUyj1GGcM"
      }
    },
    {
      "cell_type": "code",
      "source": [
        "print(\"Number of Training Samples:\", len(X_train))\n",
        "print(\"Number of Associated Labels:\", len(y_train))"
      ],
      "metadata": {
        "colab": {
          "base_uri": "https://localhost:8080/"
        },
        "id": "K7CilOaUGF5h",
        "outputId": "f0e430c8-38c1-46c2-b756-a21c32ebd028"
      },
      "execution_count": null,
      "outputs": [
        {
          "output_type": "stream",
          "name": "stdout",
          "text": [
            "Number of Training Samples: 60000\n",
            "Number of Associated Labels: 60000\n"
          ]
        }
      ]
    },
    {
      "cell_type": "code",
      "source": [
        "# Print the shape of the training data\n",
        "print(\"Shape of Training Data:\", X_train.shape)"
      ],
      "metadata": {
        "colab": {
          "base_uri": "https://localhost:8080/"
        },
        "id": "XH9OevW6FkZn",
        "outputId": "7a0d5c63-901b-4369-a0eb-fb89871f4740"
      },
      "execution_count": null,
      "outputs": [
        {
          "output_type": "stream",
          "name": "stdout",
          "text": [
            "Shape of Training Data: (60000, 28, 28)\n"
          ]
        }
      ]
    },
    {
      "cell_type": "code",
      "source": [
        "# Print the data type of training samples\n",
        "print(\"Data Type of Training Samples:\", X_train.dtype)"
      ],
      "metadata": {
        "colab": {
          "base_uri": "https://localhost:8080/"
        },
        "id": "3-FXl5uMFkSl",
        "outputId": "d07bc959-f2cf-4658-e6a5-799e3bd95891"
      },
      "execution_count": null,
      "outputs": [
        {
          "output_type": "stream",
          "name": "stdout",
          "text": [
            "Data Type of Training Samples: uint8\n"
          ]
        }
      ]
    },
    {
      "cell_type": "code",
      "source": [
        "# Print the number of test samples and associated labels\n",
        "print(\"Number of Test Samples: \", len(X_test))\n",
        "print(\"Number of Associated Labels: \", len(y_test))"
      ],
      "metadata": {
        "colab": {
          "base_uri": "https://localhost:8080/"
        },
        "id": "-7HPxaNSFkAT",
        "outputId": "fcf25e0b-8462-4d67-f562-a7fdf95558d2"
      },
      "execution_count": null,
      "outputs": [
        {
          "output_type": "stream",
          "name": "stdout",
          "text": [
            "Number of Test Samples:  10000\n",
            "Number of Associated Labels:  10000\n"
          ]
        }
      ]
    },
    {
      "cell_type": "code",
      "source": [
        "# Print the shape of training labels\n",
        "print(\"Shape of Training Labels: \", y_train.shape)"
      ],
      "metadata": {
        "colab": {
          "base_uri": "https://localhost:8080/"
        },
        "id": "ACYUc0ZgG5MK",
        "outputId": "2234e213-10c6-4d3d-9822-0ab35bdbe48d"
      },
      "execution_count": null,
      "outputs": [
        {
          "output_type": "stream",
          "name": "stdout",
          "text": [
            "Shape of Training Labels:  (60000,)\n"
          ]
        }
      ]
    },
    {
      "cell_type": "code",
      "source": [
        "# Print the shape of test data\n",
        "print(\"Shape of Test Data: \", X_test.shape)"
      ],
      "metadata": {
        "colab": {
          "base_uri": "https://localhost:8080/"
        },
        "id": "BXSnptUuG5Dq",
        "outputId": "b342ef52-7eaa-420f-ce1c-fa5c6f58a379"
      },
      "execution_count": null,
      "outputs": [
        {
          "output_type": "stream",
          "name": "stdout",
          "text": [
            "Shape of Test Data:  (10000, 28, 28)\n"
          ]
        }
      ]
    },
    {
      "cell_type": "code",
      "source": [
        "# Print the data type of test samples\n",
        "print(\"Data Type of Test Samples: \", X_test.dtype)"
      ],
      "metadata": {
        "colab": {
          "base_uri": "https://localhost:8080/"
        },
        "id": "1FD6W-1PIlxR",
        "outputId": "e7d4e21e-df2e-4d44-db8a-5c6b98f6a09e"
      },
      "execution_count": null,
      "outputs": [
        {
          "output_type": "stream",
          "name": "stdout",
          "text": [
            "Data Type of Test Samples:  uint8\n"
          ]
        }
      ]
    },
    {
      "cell_type": "code",
      "source": [
        "# Print the shape of test labels\n",
        "print(\"Shape of Test Labels: \", y_test.shape)"
      ],
      "metadata": {
        "colab": {
          "base_uri": "https://localhost:8080/"
        },
        "id": "e9ypWANEIlua",
        "outputId": "c662e302-50e8-4a82-8a19-2b4a70ce59d4"
      },
      "execution_count": null,
      "outputs": [
        {
          "output_type": "stream",
          "name": "stdout",
          "text": [
            "Shape of Test Labels:  (10000,)\n"
          ]
        }
      ]
    },
    {
      "cell_type": "markdown",
      "source": [
        "#Visualize Data"
      ],
      "metadata": {
        "id": "1NbOV2jtIuVq"
      }
    },
    {
      "cell_type": "code",
      "source": [
        "# Displaying the shape of a single sample among 60,000 samples\n",
        "print(X_train[0].shape)"
      ],
      "metadata": {
        "colab": {
          "base_uri": "https://localhost:8080/"
        },
        "id": "wXKWmJm8I33L",
        "outputId": "3be3bab9-4df0-4fc6-9896-c47181863586"
      },
      "execution_count": null,
      "outputs": [
        {
          "output_type": "stream",
          "name": "stdout",
          "text": [
            "(28, 28)\n"
          ]
        }
      ]
    },
    {
      "cell_type": "code",
      "source": [
        "# Getting a random sample from X_train\n",
        "a_random_sample = X_train[0]\n",
        "# Displaying the pixel values of the sample\n",
        "print(a_random_sample)"
      ],
      "metadata": {
        "colab": {
          "base_uri": "https://localhost:8080/"
        },
        "id": "8TDk17PiI3xh",
        "outputId": "f9abc7d2-99d1-433d-c18d-aa7579b4f9e2"
      },
      "execution_count": null,
      "outputs": [
        {
          "output_type": "stream",
          "name": "stdout",
          "text": [
            "[[  0   0   0   0   0   0   0   0   0   0   0   0   0   0   0   0   0   0\n",
            "    0   0   0   0   0   0   0   0   0   0]\n",
            " [  0   0   0   0   0   0   0   0   0   0   0   0   0   0   0   0   0   0\n",
            "    0   0   0   0   0   0   0   0   0   0]\n",
            " [  0   0   0   0   0   0   0   0   0   0   0   0   0   0   0   0   0   0\n",
            "    0   0   0   0   0   0   0   0   0   0]\n",
            " [  0   0   0   0   0   0   0   0   0   0   0   0   0   0   0   0   0   0\n",
            "    0   0   0   0   0   0   0   0   0   0]\n",
            " [  0   0   0   0   0   0   0   0   0   0   0   0   0   0   0   0   0   0\n",
            "    0   0   0   0   0   0   0   0   0   0]\n",
            " [  0   0   0   0   0   0   0   0   0   0   0   0   3  18  18  18 126 136\n",
            "  175  26 166 255 247 127   0   0   0   0]\n",
            " [  0   0   0   0   0   0   0   0  30  36  94 154 170 253 253 253 253 253\n",
            "  225 172 253 242 195  64   0   0   0   0]\n",
            " [  0   0   0   0   0   0   0  49 238 253 253 253 253 253 253 253 253 251\n",
            "   93  82  82  56  39   0   0   0   0   0]\n",
            " [  0   0   0   0   0   0   0  18 219 253 253 253 253 253 198 182 247 241\n",
            "    0   0   0   0   0   0   0   0   0   0]\n",
            " [  0   0   0   0   0   0   0   0  80 156 107 253 253 205  11   0  43 154\n",
            "    0   0   0   0   0   0   0   0   0   0]\n",
            " [  0   0   0   0   0   0   0   0   0  14   1 154 253  90   0   0   0   0\n",
            "    0   0   0   0   0   0   0   0   0   0]\n",
            " [  0   0   0   0   0   0   0   0   0   0   0 139 253 190   2   0   0   0\n",
            "    0   0   0   0   0   0   0   0   0   0]\n",
            " [  0   0   0   0   0   0   0   0   0   0   0  11 190 253  70   0   0   0\n",
            "    0   0   0   0   0   0   0   0   0   0]\n",
            " [  0   0   0   0   0   0   0   0   0   0   0   0  35 241 225 160 108   1\n",
            "    0   0   0   0   0   0   0   0   0   0]\n",
            " [  0   0   0   0   0   0   0   0   0   0   0   0   0  81 240 253 253 119\n",
            "   25   0   0   0   0   0   0   0   0   0]\n",
            " [  0   0   0   0   0   0   0   0   0   0   0   0   0   0  45 186 253 253\n",
            "  150  27   0   0   0   0   0   0   0   0]\n",
            " [  0   0   0   0   0   0   0   0   0   0   0   0   0   0   0  16  93 252\n",
            "  253 187   0   0   0   0   0   0   0   0]\n",
            " [  0   0   0   0   0   0   0   0   0   0   0   0   0   0   0   0   0 249\n",
            "  253 249  64   0   0   0   0   0   0   0]\n",
            " [  0   0   0   0   0   0   0   0   0   0   0   0   0   0  46 130 183 253\n",
            "  253 207   2   0   0   0   0   0   0   0]\n",
            " [  0   0   0   0   0   0   0   0   0   0   0   0  39 148 229 253 253 253\n",
            "  250 182   0   0   0   0   0   0   0   0]\n",
            " [  0   0   0   0   0   0   0   0   0   0  24 114 221 253 253 253 253 201\n",
            "   78   0   0   0   0   0   0   0   0   0]\n",
            " [  0   0   0   0   0   0   0   0  23  66 213 253 253 253 253 198  81   2\n",
            "    0   0   0   0   0   0   0   0   0   0]\n",
            " [  0   0   0   0   0   0  18 171 219 253 253 253 253 195  80   9   0   0\n",
            "    0   0   0   0   0   0   0   0   0   0]\n",
            " [  0   0   0   0  55 172 226 253 253 253 253 244 133  11   0   0   0   0\n",
            "    0   0   0   0   0   0   0   0   0   0]\n",
            " [  0   0   0   0 136 253 253 253 212 135 132  16   0   0   0   0   0   0\n",
            "    0   0   0   0   0   0   0   0   0   0]\n",
            " [  0   0   0   0   0   0   0   0   0   0   0   0   0   0   0   0   0   0\n",
            "    0   0   0   0   0   0   0   0   0   0]\n",
            " [  0   0   0   0   0   0   0   0   0   0   0   0   0   0   0   0   0   0\n",
            "    0   0   0   0   0   0   0   0   0   0]\n",
            " [  0   0   0   0   0   0   0   0   0   0   0   0   0   0   0   0   0   0\n",
            "    0   0   0   0   0   0   0   0   0   0]]\n"
          ]
        }
      ]
    },
    {
      "cell_type": "code",
      "source": [
        "# Getting a random sample and displaying it\n",
        "random_image = X_train[0]\n",
        "imshow(random_image)"
      ],
      "metadata": {
        "colab": {
          "base_uri": "https://localhost:8080/",
          "height": 504
        },
        "id": "0562Ul3LI3qy",
        "outputId": "d8b41e6f-343a-4e67-997d-f0f792f8e171"
      },
      "execution_count": null,
      "outputs": [
        {
          "output_type": "execute_result",
          "data": {
            "text/plain": [
              "<matplotlib.image.AxesImage at 0x7d0b385b2860>"
            ]
          },
          "metadata": {},
          "execution_count": 15
        },
        {
          "output_type": "display_data",
          "data": {
            "text/plain": [
              "<Figure size 640x480 with 1 Axes>"
            ],
            "image/png": "[encoded data removed]"
          },
          "metadata": {}
        }
      ]
    },
    {
      "cell_type": "code",
      "source": [
        "# Displaying a grid of 9 random samples from the training data\n",
        "plt.figure(figsize=(10, 10))\n",
        "for i in range(9):\n",
        "    ax = plt.subplot(3, 3, i + 1)\n",
        "    # Get a sample at index i\n",
        "    an_image = X_train[i]\n",
        "    # Display the sample\n",
        "    plt.imshow(an_image)\n",
        "    # Display the label of the sample as title\n",
        "    plt.title(int(y_train[i]))\n",
        "    plt.axis(\"off\")\n",
        "plt.show()"
      ],
      "metadata": {
        "colab": {
          "base_uri": "https://localhost:8080/",
          "height": 829
        },
        "id": "MGH6tCC7I3gj",
        "outputId": "e81ef0ce-6748-48de-8952-3c24c2c14fa6"
      },
      "execution_count": null,
      "outputs": [
        {
          "output_type": "display_data",
          "data": {
            "text/plain": [
              "<Figure size 1000x1000 with 9 Axes>"
            ],
            "image/png": "[encoded data removed]"
          },
          "metadata": {}
        }
      ]
    },
    {
      "cell_type": "markdown",
      "source": [
        "#Change data Type of Train and Test data"
      ],
      "metadata": {
        "id": "fDucWBsxJYL0"
      }
    },
    {
      "cell_type": "code",
      "source": [
        "# Print previous data type of Train and Test samples\n",
        "print(\"Previous DataType of Train and Test samples:\")\n",
        "print(X_train.dtype)\n",
        "print(X_test.dtype)\n",
        "\n",
        "# Change data type of Train and Test data\n",
        "X_train = X_train.astype('float32')\n",
        "X_test = X_test.astype('float32')\n",
        "\n",
        "# Print new data type of Train and Test samples\n",
        "print(\"New DataType of Train and Test samples:\")\n",
        "print(X_train.dtype)\n",
        "print(X_test.dtype)"
      ],
      "metadata": {
        "colab": {
          "base_uri": "https://localhost:8080/"
        },
        "id": "pA7NRNWYI3cZ",
        "outputId": "7f99a42b-a504-4a5b-cd37-aff2830bb135"
      },
      "execution_count": null,
      "outputs": [
        {
          "output_type": "stream",
          "name": "stdout",
          "text": [
            "Previous DataType of Train and Test samples:\n",
            "uint8\n",
            "uint8\n",
            "New DataType of Train and Test samples:\n",
            "float32\n",
            "float32\n"
          ]
        }
      ]
    },
    {
      "cell_type": "markdown",
      "source": [
        "#Rescaling Data"
      ],
      "metadata": {
        "id": "KAL_LUf0J1tY"
      }
    },
    {
      "cell_type": "code",
      "source": [
        "# Get a random sample\n",
        "a_sample = X_train[0]\n",
        "print(\"Min value of sample: \", a_sample.min())\n",
        "print(\"Max value of sample: \", a_sample.max())"
      ],
      "metadata": {
        "colab": {
          "base_uri": "https://localhost:8080/"
        },
        "id": "9Sn7d1QwI3TR",
        "outputId": "63591a56-91fb-4a98-ff46-588ef50e64e0"
      },
      "execution_count": null,
      "outputs": [
        {
          "output_type": "stream",
          "name": "stdout",
          "text": [
            "Min value of sample:  0.0\n",
            "Max value of sample:  255.0\n"
          ]
        }
      ]
    },
    {
      "cell_type": "code",
      "source": [
        "# Divide each value in Train and Test data by 255\n",
        "X_train /= 255.0\n",
        "X_test /= 255.0"
      ],
      "metadata": {
        "id": "0tV3TMnFJxfa"
      },
      "execution_count": null,
      "outputs": []
    },
    {
      "cell_type": "code",
      "source": [
        "# Get a sample\n",
        "a_sample = X_train[0]\n",
        "print(\"Min value of sample:\", a_sample.min())\n",
        "print(\"Max value of sample:\", a_sample.max())"
      ],
      "metadata": {
        "colab": {
          "base_uri": "https://localhost:8080/"
        },
        "id": "JGln3eh_JxdE",
        "outputId": "572ac942-ad73-4034-ece7-68e4b03c193c"
      },
      "execution_count": null,
      "outputs": [
        {
          "output_type": "stream",
          "name": "stdout",
          "text": [
            "Min value of sample: 0.0\n",
            "Max value of sample: 1.0\n"
          ]
        }
      ]
    },
    {
      "cell_type": "markdown",
      "source": [
        "#Reshape Train and Test data to 4D"
      ],
      "metadata": {
        "id": "vIqOlddWKbaO"
      }
    },
    {
      "cell_type": "code",
      "source": [
        "# Make sure images have shape (28, 28, 1)\n",
        "# We want to expand a dim at the end\n",
        "X_train = np.expand_dims(X_train, -1)\n",
        "# We want to expand a dim at the end\n",
        "X_test = np.expand_dims(X_test, -1)\n",
        "# Get new shape of Train and Test\n",
        "print(\"x_train shape:\", X_train.shape)\n",
        "print(\"x_test shape:\", X_test.shape)"
      ],
      "metadata": {
        "colab": {
          "base_uri": "https://localhost:8080/"
        },
        "id": "jAtQ1CMxJxak",
        "outputId": "cd5b1d62-0261-45ce-bd50-134dba2a1433"
      },
      "execution_count": null,
      "outputs": [
        {
          "output_type": "stream",
          "name": "stdout",
          "text": [
            "x_train shape: (60000, 28, 28, 1)\n",
            "x_test shape: (10000, 28, 28, 1)\n"
          ]
        }
      ]
    },
    {
      "cell_type": "markdown",
      "source": [
        "#Binarize Labels"
      ],
      "metadata": {
        "id": "FkGc1RJ-Kn82"
      }
    },
    {
      "cell_type": "code",
      "source": [
        "# Display the training labels\n",
        "print(\"Training Labels:\", y_train)"
      ],
      "metadata": {
        "colab": {
          "base_uri": "https://localhost:8080/"
        },
        "id": "bELcRfOqJxXy",
        "outputId": "1a7f5ae9-8695-4be4-a664-8d490e14eb12"
      },
      "execution_count": null,
      "outputs": [
        {
          "output_type": "stream",
          "name": "stdout",
          "text": [
            "Training Labels: [5 0 4 ... 5 6 8]\n"
          ]
        }
      ]
    },
    {
      "cell_type": "code",
      "source": [
        "# Shape of training labels\n",
        "print(\"Shape of training labels:\", y_train.shape)"
      ],
      "metadata": {
        "colab": {
          "base_uri": "https://localhost:8080/"
        },
        "id": "Kb3mpzlHJxVS",
        "outputId": "01112a5f-54e2-4e4d-cd29-868e676b8f84"
      },
      "execution_count": null,
      "outputs": [
        {
          "output_type": "stream",
          "name": "stdout",
          "text": [
            "Shape of training labels: (60000,)\n"
          ]
        }
      ]
    },
    {
      "cell_type": "code",
      "source": [
        "# A random array\n",
        "input_array = np.array([0, 1, 2, 3, 4, 5, 6, 7, 8, 9])\n",
        "print(input_array)\n",
        "print(\"Input list shape:\", input_array.shape)\n",
        "\n",
        "# Apply to_categorical to the random array\n",
        "output = to_categorical(input_array, num_classes=10)\n",
        "print(output)\n",
        "print(\"Input list shape:\", input_array.shape)"
      ],
      "metadata": {
        "colab": {
          "base_uri": "https://localhost:8080/"
        },
        "id": "IjlsVs4LJxSk",
        "outputId": "495b7f48-0dc5-484c-eac0-706053b2aac7"
      },
      "execution_count": null,
      "outputs": [
        {
          "output_type": "stream",
          "name": "stdout",
          "text": [
            "[0 1 2 3 4 5 6 7 8 9]\n",
            "Input list shape: (10,)\n",
            "[[1. 0. 0. 0. 0. 0. 0. 0. 0. 0.]\n",
            " [0. 1. 0. 0. 0. 0. 0. 0. 0. 0.]\n",
            " [0. 0. 1. 0. 0. 0. 0. 0. 0. 0.]\n",
            " [0. 0. 0. 1. 0. 0. 0. 0. 0. 0.]\n",
            " [0. 0. 0. 0. 1. 0. 0. 0. 0. 0.]\n",
            " [0. 0. 0. 0. 0. 1. 0. 0. 0. 0.]\n",
            " [0. 0. 0. 0. 0. 0. 1. 0. 0. 0.]\n",
            " [0. 0. 0. 0. 0. 0. 0. 1. 0. 0.]\n",
            " [0. 0. 0. 0. 0. 0. 0. 0. 1. 0.]\n",
            " [0. 0. 0. 0. 0. 0. 0. 0. 0. 1.]]\n",
            "Input list shape: (10,)\n"
          ]
        }
      ]
    },
    {
      "cell_type": "code",
      "source": [
        "# Apply to_categorical to train labels\n",
        "Y_train = to_categorical(y_train, num_classes)\n",
        "\n",
        "# Apply to_categorical to test labels\n",
        "Y_test = to_categorical(y_test, num_classes)"
      ],
      "metadata": {
        "id": "phI-2iFdKf5N"
      },
      "execution_count": null,
      "outputs": []
    },
    {
      "cell_type": "markdown",
      "source": [
        "#Define Model"
      ],
      "metadata": {
        "id": "WY2rDv1uLUkO"
      }
    },
    {
      "cell_type": "code",
      "source": [
        "# Define an input shape for our CNN\n",
        "input_shape = (28, 28, 1)"
      ],
      "metadata": {
        "id": "2qAOYAwhKfz_"
      },
      "execution_count": null,
      "outputs": []
    },
    {
      "cell_type": "code",
      "source": [
        "# Keras provides the Sequential API to create models\n",
        "model = Sequential()\n",
        "\n",
        "# Define the Input Layer\n",
        "model.add(Input(shape=input_shape))\n",
        "\n",
        "# 1st Conv layer\n",
        "model.add(Conv2D(32, kernel_size=(3, 3), activation=\"relu\"))\n",
        "\n",
        "# 1st Pooling layer\n",
        "model.add(MaxPooling2D(pool_size=(2, 2)))\n",
        "\n",
        "# 2nd Conv layer\n",
        "model.add(Conv2D(64, kernel_size=(3, 3), activation=\"relu\"))\n",
        "\n",
        "# 2nd Pooling layer\n",
        "model.add(MaxPooling2D(pool_size=(2, 2)))\n",
        "\n",
        "# Flatten our 2D tensor to 1D\n",
        "model.add(Flatten())\n",
        "\n",
        "# Last Dense layer to make classification\n",
        "model.add(Dense(num_classes, activation=\"softmax\"))"
      ],
      "metadata": {
        "id": "IKk7dBUKKfuP"
      },
      "execution_count": null,
      "outputs": []
    },
    {
      "cell_type": "markdown",
      "source": [
        "#Compile Model"
      ],
      "metadata": {
        "id": "WEDI40cfL687"
      }
    },
    {
      "cell_type": "code",
      "source": [
        "# Choose learning rate\n",
        "learning_rate = 0.001\n",
        "\n",
        "# Select optimizer\n",
        "optimizer = SGD(learning_rate=learning_rate)\n",
        "\n",
        "# Select loss function\n",
        "loss = 'categorical_crossentropy'\n",
        "\n",
        "# Select evaluation metrics\n",
        "metrics = ['accuracy']\n",
        "\n",
        "# Model compilation\n",
        "model.compile(optimizer=optimizer, loss=loss, metrics=metrics)"
      ],
      "metadata": {
        "id": "fHcNU52lL2Os"
      },
      "execution_count": null,
      "outputs": []
    },
    {
      "cell_type": "markdown",
      "source": [
        "#Visualize Model"
      ],
      "metadata": {
        "id": "3JWAD_hRMDZe"
      }
    },
    {
      "cell_type": "code",
      "source": [
        "# A summary of inputs, outputs in each layer\n",
        "model.summary()"
      ],
      "metadata": {
        "colab": {
          "base_uri": "https://localhost:8080/"
        },
        "id": "RooN_TiUL2MI",
        "outputId": "30ef0f49-6d21-4fd1-91dc-c2b606d6c878"
      },
      "execution_count": null,
      "outputs": [
        {
          "output_type": "stream",
          "name": "stdout",
          "text": [
            "Model: \"sequential_1\"\n",
            "_________________________________________________________________\n",
            " Layer (type)                Output Shape              Param #   \n",
            "=================================================================\n",
            " conv2d (Conv2D)             (None, 26, 26, 32)        320       \n",
            "                                                                 \n",
            " max_pooling2d (MaxPooling2  (None, 13, 13, 32)        0         \n",
            " D)                                                              \n",
            "                                                                 \n",
            " conv2d_1 (Conv2D)           (None, 11, 11, 64)        18496     \n",
            "                                                                 \n",
            " max_pooling2d_1 (MaxPoolin  (None, 5, 5, 64)          0         \n",
            " g2D)                                                            \n",
            "                                                                 \n",
            " flatten (Flatten)           (None, 1600)              0         \n",
            "                                                                 \n",
            " dense (Dense)               (None, 10)                16010     \n",
            "                                                                 \n",
            "=================================================================\n",
            "Total params: 34826 (136.04 KB)\n",
            "Trainable params: 34826 (136.04 KB)\n",
            "Non-trainable params: 0 (0.00 Byte)\n",
            "_________________________________________________________________\n"
          ]
        }
      ]
    },
    {
      "cell_type": "code",
      "source": [
        "plot_model(model)"
      ],
      "metadata": {
        "colab": {
          "base_uri": "https://localhost:8080/",
          "height": 661
        },
        "id": "0mYfsk8tL2Go",
        "outputId": "c08501f7-4590-4b07-e5ee-4f43b70d834c"
      },
      "execution_count": null,
      "outputs": [
        {
          "output_type": "execute_result",
          "data": {
            "image/png": "[encoded data removed]",
            "text/plain": [
              "<IPython.core.display.Image object>"
            ]
          },
          "metadata": {},
          "execution_count": 31
        }
      ]
    },
    {
      "cell_type": "markdown",
      "source": [
        "#Model Training"
      ],
      "metadata": {
        "id": "xDN-ohNlMxeS"
      }
    },
    {
      "cell_type": "code",
      "source": [
        "# Train\n",
        "history = model.fit(X_train, Y_train, epochs=nb_epoch, batch_size=batch_size)"
      ],
      "metadata": {
        "colab": {
          "base_uri": "https://localhost:8080/"
        },
        "id": "GEX_c9ZnL2Da",
        "outputId": "bda8d04c-a052-445a-88ef-a25dc646a8ed"
      },
      "execution_count": null,
      "outputs": [
        {
          "output_type": "stream",
          "name": "stdout",
          "text": [
            "Epoch 1/10\n",
            "469/469 [==============================] - 38s 80ms/step - loss: 2.2913 - accuracy: 0.1294\n",
            "Epoch 2/10\n",
            "469/469 [==============================] - 42s 90ms/step - loss: 2.2303 - accuracy: 0.2753\n",
            "Epoch 3/10\n",
            "469/469 [==============================] - 43s 92ms/step - loss: 2.1295 - accuracy: 0.4584\n",
            "Epoch 4/10\n",
            "469/469 [==============================] - 40s 85ms/step - loss: 1.9037 - accuracy: 0.6332\n",
            "Epoch 5/10\n",
            "469/469 [==============================] - 38s 80ms/step - loss: 1.4404 - accuracy: 0.7329\n",
            "Epoch 6/10\n",
            "469/469 [==============================] - 45s 96ms/step - loss: 0.9538 - accuracy: 0.7920\n",
            "Epoch 7/10\n",
            "469/469 [==============================] - 37s 79ms/step - loss: 0.6903 - accuracy: 0.8283\n",
            "Epoch 8/10\n",
            "469/469 [==============================] - 38s 80ms/step - loss: 0.5622 - accuracy: 0.8522\n",
            "Epoch 9/10\n",
            "469/469 [==============================] - 39s 84ms/step - loss: 0.4910 - accuracy: 0.8658\n",
            "Epoch 10/10\n",
            "469/469 [==============================] - 39s 84ms/step - loss: 0.4459 - accuracy: 0.8758\n"
          ]
        }
      ]
    },
    {
      "cell_type": "markdown",
      "source": [
        "#Inference on Test Data"
      ],
      "metadata": {
        "id": "BiXH0Gx4M-mM"
      }
    },
    {
      "cell_type": "code",
      "source": [
        "# Evaluate\n",
        "evaluation = model.evaluate(X_test, Y_test)\n",
        "\n",
        "# Display test statistics\n",
        "print('Summary: Loss over the test dataset: %.2f, Accuracy: %.2f' % (evaluation[0]*100, evaluation[1]*100))"
      ],
      "metadata": {
        "colab": {
          "base_uri": "https://localhost:8080/"
        },
        "id": "rsLrdmB4L19B",
        "outputId": "27407141-5b33-4447-c071-faa141f624b9"
      },
      "execution_count": null,
      "outputs": [
        {
          "output_type": "stream",
          "name": "stdout",
          "text": [
            "313/313 [==============================] - 4s 11ms/step - loss: 0.4082 - accuracy: 0.8864\n",
            "Summary: Loss over the test dataset: 40.82, Accuracy: 88.64\n"
          ]
        }
      ]
    },
    {
      "cell_type": "code",
      "source": [
        "# Get training loss histories\n",
        "training_loss = history.history['loss']\n",
        "# Create count of the number of epochs\n",
        "epoch_count = range(1, len(training_loss) + 1)\n",
        "# Visualize loss history\n",
        "plt.plot(epoch_count, training_loss, 'r--')\n",
        "plt.legend(['Training Loss'])\n",
        "plt.xlabel('Epoch')\n",
        "plt.ylabel('Loss')\n",
        "plt.show();"
      ],
      "metadata": {
        "colab": {
          "base_uri": "https://localhost:8080/",
          "height": 449
        },
        "id": "-Q-t7Z5VL15a",
        "outputId": "52655206-4778-4d1a-8493-3adbcda11580"
      },
      "execution_count": null,
      "outputs": [
        {
          "output_type": "display_data",
          "data": {
            "text/plain": [
              "<Figure size 640x480 with 1 Axes>"
            ],
            "image/png": "[encoded data removed]"
          },
          "metadata": {}
        }
      ]
    },
    {
      "cell_type": "code",
      "source": [
        "# Get training accuracy histories\n",
        "training_accuracy = history.history['accuracy']\n",
        "# Create count of the number of epochs\n",
        "epoch_count = range(1, len(training_accuracy) + 1)\n",
        "# Visualize accuracy history\n",
        "plt.plot(epoch_count, training_accuracy, 'b-')\n",
        "plt.legend(['Training Accuracy'])\n",
        "plt.xlabel('Epoch')\n",
        "plt.ylabel('Accuracy')\n",
        "plt.show();"
      ],
      "metadata": {
        "colab": {
          "base_uri": "https://localhost:8080/",
          "height": 449
        },
        "id": "FIvfGgT3NcUH",
        "outputId": "b3a1ea64-265d-417a-fb66-d765be3b44de"
      },
      "execution_count": null,
      "outputs": [
        {
          "output_type": "display_data",
          "data": {
            "text/plain": [
              "<Figure size 640x480 with 1 Axes>"
            ],
            "image/png": "[encoded data removed]"
          },
          "metadata": {}
        }
      ]
    },
    {
      "cell_type": "code",
      "source": [],
      "metadata": {
        "id": "eht_08exNcFW"
      },
      "execution_count": null,
      "outputs": []
    }
  ]
}