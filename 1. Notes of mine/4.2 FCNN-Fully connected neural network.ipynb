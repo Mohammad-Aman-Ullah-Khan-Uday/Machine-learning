{
  "nbformat": 4,
  "nbformat_minor": 0,
  "metadata": {
    "colab": {
      "provenance": []
    },
    "kernelspec": {
      "name": "python3",
      "display_name": "Python 3"
    },
    "language_info": {
      "name": "python"
    }
  },
  "cells": [
    {
      "cell_type": "code",
      "execution_count": null,
      "metadata": {
        "id": "M23bQ1ZNZSDh"
      },
      "outputs": [],
      "source": [
        "# Sequential API to create models\n",
        "from keras.models import Sequential\n",
        "\n",
        "# Components to create a model\n",
        "from keras.layers import Dense, Input\n",
        "\n",
        "# Stochastic Gradient Desent Algorithm\n",
        "from keras.optimizers import SGD\n",
        "\n",
        "# Keras already hosted MNIST dataset for us\n",
        "from keras.datasets import mnist\n",
        "\n",
        "# An Keras utility to binarize integers\n",
        "from keras.utils import to_categorical\n",
        "\n",
        "# An Keras utility to visualize model graph\n",
        "from keras.utils import plot_model\n",
        "\n",
        "# Another ML library that has many utilities for image operation\n",
        "import skimage\n",
        "\n",
        "# Here we will use only two of its utilities\n",
        "from skimage.io import imshow\n",
        "\n",
        "# Another python library for plotting things\n",
        "import matplotlib.pyplot as plt\n",
        "\n",
        "# Another python library to manipulate vectors, matrices, arrays etc.\n",
        "import numpy as np\n"
      ]
    },
    {
      "cell_type": "markdown",
      "source": [
        "#Hyperparameters Parameters"
      ],
      "metadata": {
        "id": "NBKNib4E4DIp"
      }
    },
    {
      "cell_type": "code",
      "source": [
        "# Whole dataset splits into batches\n",
        "batch_size=128\n",
        "# Number of labels of our dataset\n",
        "nb_classes=10\n",
        "# Number of times we want to train the model\n",
        "nb_epoch=10"
      ],
      "metadata": {
        "id": "_Mvrtbpa4EO_"
      },
      "execution_count": null,
      "outputs": []
    },
    {
      "cell_type": "markdown",
      "source": [
        "#Load Data"
      ],
      "metadata": {
        "id": "BCZHonLf4RU_"
      }
    },
    {
      "cell_type": "code",
      "source": [
        "(X_train, y_train), (X_test, y_test) = mnist.load_data()\n",
        "# Load MNIST dataset\n",
        "# Data split into two sub-sets: Training and Test"
      ],
      "metadata": {
        "id": "-afjOYC64Nte"
      },
      "execution_count": null,
      "outputs": []
    },
    {
      "cell_type": "markdown",
      "source": [
        "#Data Statistics"
      ],
      "metadata": {
        "id": "VDNrx_Id4r7X"
      }
    },
    {
      "cell_type": "code",
      "source": [
        "#number of training samples in the dataset\n",
        "print(\"Number of Training Samples:\", len(X_train))\n",
        "\n",
        "#number of associated labels for the training samples in the dataset\n",
        "print(\"Number of Associated Labels:\", len(y_train))"
      ],
      "metadata": {
        "colab": {
          "base_uri": "https://localhost:8080/"
        },
        "id": "euGMoxUs4kW5",
        "outputId": "00867b96-f2a9-4c93-d5cd-8af806c8e2b6"
      },
      "execution_count": null,
      "outputs": [
        {
          "output_type": "stream",
          "name": "stdout",
          "text": [
            "Number of Training Samples: 60000\n",
            "Number of Associated Labels: 60000\n"
          ]
        }
      ]
    },
    {
      "cell_type": "code",
      "source": [
        "print(\"Shape of Training Data:\", X_train.shape)"
      ],
      "metadata": {
        "colab": {
          "base_uri": "https://localhost:8080/"
        },
        "id": "Aw6ypbVe5J0n",
        "outputId": "2c70bf6e-a3c0-4d03-9f60-46a725231721"
      },
      "execution_count": null,
      "outputs": [
        {
          "output_type": "stream",
          "name": "stdout",
          "text": [
            "Shape of Training Data: (60000, 28, 28)\n"
          ]
        }
      ]
    },
    {
      "cell_type": "code",
      "source": [
        "# Print the data type of the training samples in the MNIST dataset\n",
        "print(\"Data Type of Training Samples:\", X_train.dtype)"
      ],
      "metadata": {
        "colab": {
          "base_uri": "https://localhost:8080/"
        },
        "id": "oiZNmuT66AnR",
        "outputId": "391c2bc7-e5f3-4cfb-e06f-7480626d7571"
      },
      "execution_count": null,
      "outputs": [
        {
          "output_type": "stream",
          "name": "stdout",
          "text": [
            "Data Type of Training Samples: uint8\n"
          ]
        }
      ]
    },
    {
      "cell_type": "code",
      "source": [
        "print(\"Number of Test Samples:\", len(X_test))\n",
        "print(\"Number of Associated Labels:\", len(y_test))"
      ],
      "metadata": {
        "colab": {
          "base_uri": "https://localhost:8080/"
        },
        "id": "d0qw-sOW6FsB",
        "outputId": "5bbbcb6a-f0d3-4290-ac95-01a6d8229705"
      },
      "execution_count": null,
      "outputs": [
        {
          "output_type": "stream",
          "name": "stdout",
          "text": [
            "Number of Test Samples: 10000\n",
            "Number of Associated Labels: 10000\n"
          ]
        }
      ]
    },
    {
      "cell_type": "code",
      "source": [
        "print(\"Shape of Training Labels:\", y_train.shape)"
      ],
      "metadata": {
        "colab": {
          "base_uri": "https://localhost:8080/"
        },
        "id": "iF9QZbVI6Fiw",
        "outputId": "12a4520a-d7ad-4459-c180-23d6d71214a0"
      },
      "execution_count": null,
      "outputs": [
        {
          "output_type": "stream",
          "name": "stdout",
          "text": [
            "Shape of Training Labels: (60000,)\n"
          ]
        }
      ]
    },
    {
      "cell_type": "code",
      "source": [
        "print(\"Shape of Test Data:\", X_test.shape)"
      ],
      "metadata": {
        "colab": {
          "base_uri": "https://localhost:8080/"
        },
        "id": "Y-K93Ycp6S5Z",
        "outputId": "b5cfd785-5ce2-4edf-884d-5bc35f64ed18"
      },
      "execution_count": null,
      "outputs": [
        {
          "output_type": "stream",
          "name": "stdout",
          "text": [
            "Shape of Test Data: (10000, 28, 28)\n"
          ]
        }
      ]
    },
    {
      "cell_type": "code",
      "source": [
        "print(\"Data Type of Test Samples:\", X_test.dtype)"
      ],
      "metadata": {
        "colab": {
          "base_uri": "https://localhost:8080/"
        },
        "id": "2wkKZ0eW6gtD",
        "outputId": "501d57cb-fe64-4a7f-a047-b78f3401ef42"
      },
      "execution_count": null,
      "outputs": [
        {
          "output_type": "stream",
          "name": "stdout",
          "text": [
            "Data Type of Test Samples: uint8\n"
          ]
        }
      ]
    },
    {
      "cell_type": "code",
      "source": [
        "# Print the shape of the training labels in the MNIST dataset\n",
        "print(\"Shape of Training Labels:\", y_train.shape)"
      ],
      "metadata": {
        "colab": {
          "base_uri": "https://localhost:8080/"
        },
        "id": "iLkiEs3D62fu",
        "outputId": "090d7ac2-8cbf-4665-8cc0-8d42d7cdc2c0"
      },
      "execution_count": null,
      "outputs": [
        {
          "output_type": "stream",
          "name": "stdout",
          "text": [
            "Shape of Training Labels: (60000,)\n"
          ]
        }
      ]
    },
    {
      "cell_type": "code",
      "source": [
        "# Print the shape of the test data in the MNIST dataset\n",
        "print(\"Shape of Test Data:\", X_test.shape)"
      ],
      "metadata": {
        "colab": {
          "base_uri": "https://localhost:8080/"
        },
        "id": "Jr2zlCFt66jV",
        "outputId": "fe190fc4-f610-4527-b2a3-b5f5c6ecca64"
      },
      "execution_count": null,
      "outputs": [
        {
          "output_type": "stream",
          "name": "stdout",
          "text": [
            "Shape of Test Data: (10000, 28, 28)\n"
          ]
        }
      ]
    },
    {
      "cell_type": "code",
      "source": [
        "# Print the data type of the test samples in the MNIST dataset\n",
        "print(\"Data Type of Test Samples:\", X_test.dtype)"
      ],
      "metadata": {
        "colab": {
          "base_uri": "https://localhost:8080/"
        },
        "id": "XKvXgSql66bY",
        "outputId": "4edf73d6-cf59-4462-b13a-2e4de96a0914"
      },
      "execution_count": null,
      "outputs": [
        {
          "output_type": "stream",
          "name": "stdout",
          "text": [
            "Data Type of Test Samples: uint8\n"
          ]
        }
      ]
    },
    {
      "cell_type": "code",
      "source": [
        "# Print the shape of the test labels in the MNIST dataset\n",
        "print(\"Shape of Test Labels: \", y_test.shape)"
      ],
      "metadata": {
        "colab": {
          "base_uri": "https://localhost:8080/"
        },
        "id": "J4ykeoyE66TS",
        "outputId": "c77b6101-80bb-4567-9fb3-354b3214ddf7"
      },
      "execution_count": null,
      "outputs": [
        {
          "output_type": "stream",
          "name": "stdout",
          "text": [
            "Shape of Test Labels:  (10000,)\n"
          ]
        }
      ]
    },
    {
      "cell_type": "markdown",
      "source": [
        "#Visualize Data"
      ],
      "metadata": {
        "id": "_q0nIrnV7kbx"
      }
    },
    {
      "cell_type": "code",
      "source": [
        "# Print the shape of a single training sample among 60,000 samples\n",
        "print(\"Shape of a Single Training Sample:\", X_train[0].shape)"
      ],
      "metadata": {
        "colab": {
          "base_uri": "https://localhost:8080/"
        },
        "id": "BHqr1Z427cpZ",
        "outputId": "a29fc4cf-810c-48c0-cb23-87928692becc"
      },
      "execution_count": null,
      "outputs": [
        {
          "output_type": "stream",
          "name": "stdout",
          "text": [
            "Shape of a Single Training Sample: (28, 28)\n"
          ]
        }
      ]
    },
    {
      "cell_type": "code",
      "source": [
        "import numpy as np\n",
        "\n",
        "# Generate a random index\n",
        "random_index = np.random.randint(len(X_train))\n",
        "\n",
        "# Access a random sample\n",
        "a_random_sample = X_train[random_index]\n",
        "\n",
        "print(\"Pixel values of the random sample:\", a_random_sample)"
      ],
      "metadata": {
        "colab": {
          "base_uri": "https://localhost:8080/"
        },
        "id": "3v6gIJIx7cmZ",
        "outputId": "ae88787b-7ada-41c7-9af1-7592859806c6"
      },
      "execution_count": null,
      "outputs": [
        {
          "output_type": "stream",
          "name": "stdout",
          "text": [
            "Pixel values of the random sample: [[  0   0   0   0   0   0   0   0   0   0   0   0   0   0   0   0   0   0\n",
            "    0   0   0   0   0   0   0   0   0   0]\n",
            " [  0   0   0   0   0   0   0   0   0   0   0   0   0   0   0   0   0   0\n",
            "    0   0   0   0   0   0   0   0   0   0]\n",
            " [  0   0   0   0   0   0   0   0   0   0   0   0   0   0   0   0   0   0\n",
            "    0   0   0   0   0   0   0   0   0   0]\n",
            " [  0   0   0   0   0   0   0   0   0   0   0   0   0   0   0   0   0   0\n",
            "    0   0   0   0   0   0   0   0   0   0]\n",
            " [  0   0   0   0   0   0   0   0   0   0   0   0   0  31 131 214 254 254\n",
            "  164  40   0   0   0   0   0   0   0   0]\n",
            " [  0   0   0   0   0   0   0   0   0   0   0   0  41 228 253 253 253 253\n",
            "  253 241  72   0   0   0   0   0   0   0]\n",
            " [  0   0   0   0   0   0   0   0   0   0   0  20 229 253 253 215 188 149\n",
            "  192 253 245  49   0   0   0   0   0   0]\n",
            " [  0   0   0   0   0   0   0   0   0   0   6 165 253 253 161  16   0   0\n",
            "    3 128 251 122   0   0   0   0   0   0]\n",
            " [  0   0   0   0   0   0   0   0   0   0  75 253 253 196  19   0   0   0\n",
            "    0   0 158  84   0   0   0   0   0   0]\n",
            " [  0   0   0   0   0   0   0   0   0   3 174 253 253  24   0   0   0   0\n",
            "    0   0   0   0   0   0   0   0   0   0]\n",
            " [  0   0   0   0   0   0   0   0   0  21 253 253 192   4   0   0   0   0\n",
            "    0   0   0   0   0   0   0   0   0   0]\n",
            " [  0   0   0   0   0   0   0   0   0 115 253 249  64   0   0   0   0   0\n",
            "    0   0   0   0   0   0   0   0   0   0]\n",
            " [  0   0   0   0   0   0   0   0   0 120 253 223   0   0   0   0   0   0\n",
            "    0   0   0   0   0   0   0   0   0   0]\n",
            " [  0   0   0   0   0   0   0   0   0 120 253 223   0   0   0   0  41 113\n",
            "  144  50   6   0   0   0   0   0   0   0]\n",
            " [  0   0   0   0   0   0   0   0   0 120 253 143   0   1  82 164 244 250\n",
            "  250 252 200  31   0   0   0   0   0   0]\n",
            " [  0   0   0   0   0   0   0   0   0 120 253 124   0 127 253 218 114  35\n",
            "   38  91 247 136   0   0   0   0   0   0]\n",
            " [  0   0   0   0   0   0   0   0   0 120 253 126 122 251 165  18   0   0\n",
            "    0   0 224 236  15   0   0   0   0   0]\n",
            " [  0   0   0   0   0   0   0   0   0 120 253 181 253 199  20   0   0   0\n",
            "    0  47 244 146   0   0   0   0   0   0]\n",
            " [  0   0   0   0   0   0   0   0   0 121 253 253 253  65   0   0   0   0\n",
            "    8 199 251  67   0   0   0   0   0   0]\n",
            " [  0   0   0   0   0   0   0   0   0 120 253 253 227  10   0   0   0  19\n",
            "  129 253 197   0   0   0   0   0   0   0]\n",
            " [  0   0   0   0   0   0   0   0   0  67 253 253 168   0   0   0  17 163\n",
            "  253 230  33   0   0   0   0   0   0   0]\n",
            " [  0   0   0   0   0   0   0   0   0   6 194 253 232  46   0  73 216 253\n",
            "  207  22   0   0   0   0   0   0   0   0]\n",
            " [  0   0   0   0   0   0   0   0   0   0  36 222 253 249 245 250 253 185\n",
            "   21   0   0   0   0   0   0   0   0   0]\n",
            " [  0   0   0   0   0   0   0   0   0   0   0  28  88 248 253 155  73   0\n",
            "    0   0   0   0   0   0   0   0   0   0]\n",
            " [  0   0   0   0   0   0   0   0   0   0   0   0   0   0   0   0   0   0\n",
            "    0   0   0   0   0   0   0   0   0   0]\n",
            " [  0   0   0   0   0   0   0   0   0   0   0   0   0   0   0   0   0   0\n",
            "    0   0   0   0   0   0   0   0   0   0]\n",
            " [  0   0   0   0   0   0   0   0   0   0   0   0   0   0   0   0   0   0\n",
            "    0   0   0   0   0   0   0   0   0   0]\n",
            " [  0   0   0   0   0   0   0   0   0   0   0   0   0   0   0   0   0   0\n",
            "    0   0   0   0   0   0   0   0   0   0]]\n"
          ]
        }
      ]
    },
    {
      "cell_type": "code",
      "source": [
        "# Get a random sample\n",
        "random_image = X_train[0]\n",
        "\n",
        "# Display it\n",
        "imshow(random_image)"
      ],
      "metadata": {
        "colab": {
          "base_uri": "https://localhost:8080/",
          "height": 504
        },
        "id": "LRwV-eBj7chB",
        "outputId": "4cf2864f-fcf6-4fdb-e89a-bc877666bb29"
      },
      "execution_count": null,
      "outputs": [
        {
          "output_type": "execute_result",
          "data": {
            "text/plain": [
              "<matplotlib.image.AxesImage at 0x786b24fcfd00>"
            ]
          },
          "metadata": {},
          "execution_count": 63
        },
        {
          "output_type": "display_data",
          "data": {
            "text/plain": [
              "<Figure size 640x480 with 1 Axes>"
            ],
            "image/png": "[encoded data removed]"
          },
          "metadata": {}
        }
      ]
    },
    {
      "cell_type": "code",
      "source": [
        "# Define the size of the figure\n",
        "plt.figure(figsize=(10, 10))\n",
        "\n",
        "for i in range(9):\n",
        "    ax = plt.subplot(3, 3, i + 1)\n",
        "\n",
        "    # Get a sample at index i\n",
        "    an_image = X_train[i]\n",
        "\n",
        "    # Display the sample\n",
        "    plt.imshow(an_image)\n",
        "\n",
        "    # Display the label of the sample as title\n",
        "    plt.title(int(y_train[i]))\n",
        "    plt.axis(\"off\")\n",
        "\n",
        "# Show the figure\n",
        "plt.show()"
      ],
      "metadata": {
        "colab": {
          "base_uri": "https://localhost:8080/",
          "height": 829
        },
        "id": "QVd1E6HG7cdb",
        "outputId": "11adbdee-ca85-400d-f465-5644d89b42d2"
      },
      "execution_count": null,
      "outputs": [
        {
          "output_type": "display_data",
          "data": {
            "text/plain": [
              "<Figure size 1000x1000 with 9 Axes>"
            ],
            "image/png": "[encoded data removed]"
          },
          "metadata": {}
        }
      ]
    },
    {
      "cell_type": "markdown",
      "source": [
        "#Reshape and Flatten Data"
      ],
      "metadata": {
        "id": "poTSVBls9IMm"
      }
    },
    {
      "cell_type": "code",
      "source": [
        "# Print the shape of the entire training data\n",
        "print(\"Shape of Training Data:\", X_train.shape)\n",
        "\n",
        "# Print the shape of a single training sample\n",
        "print(\"Shape of a Training Sample:\", X_train[0].shape)"
      ],
      "metadata": {
        "colab": {
          "base_uri": "https://localhost:8080/"
        },
        "id": "Q1j_uP149IhV",
        "outputId": "dfd5ffa8-6335-4e2e-dea3-1e264ccd3314"
      },
      "execution_count": null,
      "outputs": [
        {
          "output_type": "stream",
          "name": "stdout",
          "text": [
            "Shape of Training Data: (60000, 28, 28)\n",
            "Shape of a Training Sample: (28, 28)\n"
          ]
        }
      ]
    },
    {
      "cell_type": "code",
      "source": [
        "# Get a sample image\n",
        "an_image = X_train[0]\n",
        "print(\"Shape of a Sample Image:\", an_image.shape)\n",
        "\n",
        "# Define new shape and flatten the image\n",
        "new_shape = 28 * 28\n",
        "flattened_an_image = an_image.reshape(new_shape,)\n",
        "print(\"Shape of the Flattened Image:\", flattened_an_image.shape)"
      ],
      "metadata": {
        "colab": {
          "base_uri": "https://localhost:8080/"
        },
        "id": "K8N9K5rl9I1i",
        "outputId": "f12e158a-c3c7-491c-c63e-a90df0b29955"
      },
      "execution_count": null,
      "outputs": [
        {
          "output_type": "stream",
          "name": "stdout",
          "text": [
            "Shape of a Sample Image: (28, 28)\n",
            "Shape of the Flattened Image: (784,)\n"
          ]
        }
      ]
    },
    {
      "cell_type": "code",
      "source": [
        "# Display the previous shape of X_train\n",
        "print(\"Previous shape of X_train:\", X_train.shape)"
      ],
      "metadata": {
        "colab": {
          "base_uri": "https://localhost:8080/"
        },
        "id": "0s3Fx8G69Iux",
        "outputId": "a237f1e6-e284-4928-8923-efae28a11a55"
      },
      "execution_count": null,
      "outputs": [
        {
          "output_type": "stream",
          "name": "stdout",
          "text": [
            "Previous shape of X_train: (60000, 28, 28)\n"
          ]
        }
      ]
    },
    {
      "cell_type": "code",
      "source": [
        "# Display the previous shape of X_train\n",
        "print(\"Previous shape of X_train:\", X_train.shape)\n",
        "\n",
        "# Flatten the whole training data\n",
        "X_train = X_train.reshape(60000, 784)\n",
        "\n",
        "# Display the new shape\n",
        "print(\"New shape of X_train:\", X_train.shape)"
      ],
      "metadata": {
        "colab": {
          "base_uri": "https://localhost:8080/"
        },
        "id": "smgS__SV9InN",
        "outputId": "80a5f36c-7ac1-44e8-8839-c12969e4fa63"
      },
      "execution_count": null,
      "outputs": [
        {
          "output_type": "stream",
          "name": "stdout",
          "text": [
            "Previous shape of X_train: (60000, 28, 28)\n",
            "New shape of X_train: (60000, 784)\n"
          ]
        }
      ]
    },
    {
      "cell_type": "code",
      "source": [
        "# Display the previous shape of X_test\n",
        "print(\"Previous shape of X_test:\", X_test.shape)\n",
        "\n",
        "# Flatten the whole test data\n",
        "X_test = X_test.reshape(10000, 784)\n",
        "\n",
        "# Display the new shape of X_test\n",
        "print(\"New shape of X_test:\", X_test.shape)"
      ],
      "metadata": {
        "colab": {
          "base_uri": "https://localhost:8080/"
        },
        "id": "tuc-h570-Ecw",
        "outputId": "fd744df0-8c39-43f1-8cdc-52d655e04941"
      },
      "execution_count": null,
      "outputs": [
        {
          "output_type": "stream",
          "name": "stdout",
          "text": [
            "Previous shape of X_test: (10000, 28, 28)\n",
            "New shape of X_test: (10000, 784)\n"
          ]
        }
      ]
    },
    {
      "cell_type": "code",
      "source": [
        "# Display the previous data type of train and test samples\n",
        "print(\"Previous DataType of Train and Test samples:\")\n",
        "print(X_train.dtype)\n",
        "print(X_test.dtype)\n",
        "\n",
        "# Change data type of train and test data\n",
        "X_train = X_train.astype('float32')\n",
        "X_test = X_test.astype('float32')\n",
        "\n",
        "# Display the new data type of train and test samples\n",
        "print(\"New DataType of Train and Test samples:\")\n",
        "print(X_train.dtype)\n",
        "print(X_test.dtype)"
      ],
      "metadata": {
        "colab": {
          "base_uri": "https://localhost:8080/"
        },
        "id": "2gWBL5ry-EW4",
        "outputId": "e92d2b65-4d37-49d0-bd08-0b2c2c0dc642"
      },
      "execution_count": null,
      "outputs": [
        {
          "output_type": "stream",
          "name": "stdout",
          "text": [
            "Previous DataType of Train and Test samples:\n",
            "uint8\n",
            "uint8\n",
            "New DataType of Train and Test samples:\n",
            "float32\n",
            "float32\n"
          ]
        }
      ]
    },
    {
      "cell_type": "markdown",
      "source": [
        "#Rescaling Data"
      ],
      "metadata": {
        "id": "JwG3Vwz0-mkL"
      }
    },
    {
      "cell_type": "code",
      "source": [
        "# Get a random sample\n",
        "a_sample = X_train[0]\n",
        "print(\"Min value of sample:\", a_sample.min())\n",
        "print(\"Max value of sample:\", a_sample.max())"
      ],
      "metadata": {
        "colab": {
          "base_uri": "https://localhost:8080/"
        },
        "id": "-Jx-E-l4-cDn",
        "outputId": "49f7d28f-cc01-4166-ed27-e3a33ee8d6ca"
      },
      "execution_count": null,
      "outputs": [
        {
          "output_type": "stream",
          "name": "stdout",
          "text": [
            "Min value of sample: 0.0\n",
            "Max value of sample: 255.0\n"
          ]
        }
      ]
    },
    {
      "cell_type": "code",
      "source": [
        "# Divide each value in Train and Test data by 255\n",
        "X_train /= 255\n",
        "X_test /= 255"
      ],
      "metadata": {
        "id": "Xe5TzaxM-cAP"
      },
      "execution_count": null,
      "outputs": []
    },
    {
      "cell_type": "code",
      "source": [
        "# Get a sample\n",
        "a_sample = X_train[0]\n",
        "print(\"Min value of sample:\", a_sample.min())\n",
        "print(\"Max value of sample:\", a_sample.max())"
      ],
      "metadata": {
        "colab": {
          "base_uri": "https://localhost:8080/"
        },
        "id": "DRwf0sOY-opJ",
        "outputId": "038e4eb8-6711-473e-ffd2-450a933a6817"
      },
      "execution_count": null,
      "outputs": [
        {
          "output_type": "stream",
          "name": "stdout",
          "text": [
            "Min value of sample: 0.0\n",
            "Max value of sample: 1.0\n"
          ]
        }
      ]
    },
    {
      "cell_type": "markdown",
      "source": [
        "#Binarize Labels"
      ],
      "metadata": {
        "id": "XSiXWhSw_J_r"
      }
    },
    {
      "cell_type": "code",
      "source": [
        "# Display the training labels\n",
        "print(\"Training Labels:\", y_train)"
      ],
      "metadata": {
        "colab": {
          "base_uri": "https://localhost:8080/"
        },
        "id": "Shr5wvWg-o2D",
        "outputId": "97df4485-9ad4-438e-8e85-3fa5bd26e869"
      },
      "execution_count": null,
      "outputs": [
        {
          "output_type": "stream",
          "name": "stdout",
          "text": [
            "Training Labels: [5 0 4 ... 5 6 8]\n"
          ]
        }
      ]
    },
    {
      "cell_type": "code",
      "source": [
        "# Shape of training labels\n",
        "print(\"Shape of Training Labels:\", y_train.shape)"
      ],
      "metadata": {
        "colab": {
          "base_uri": "https://localhost:8080/"
        },
        "id": "NrnAsO8R_L1q",
        "outputId": "9276e059-5076-4b9f-f6a9-828da485ef8a"
      },
      "execution_count": null,
      "outputs": [
        {
          "output_type": "stream",
          "name": "stdout",
          "text": [
            "Shape of Training Labels: (60000,)\n"
          ]
        }
      ]
    },
    {
      "cell_type": "code",
      "source": [
        "# A random array\n",
        "input_array = np.array([0, 1, 2, 3, 4, 5, 6, 7, 8, 9])\n",
        "print(input_array)\n",
        "print(\"Input list shape: \", input_array.shape)\n",
        "\n",
        "# Apply to_categorical to the random array\n",
        "output = to_categorical(input_array, num_classes=10)\n",
        "print(output)\n",
        "print(\"Output shape: \", output.shape)"
      ],
      "metadata": {
        "colab": {
          "base_uri": "https://localhost:8080/"
        },
        "id": "11tq6zYX_iM0",
        "outputId": "d20717aa-f1aa-4b13-8d74-82de95586b79"
      },
      "execution_count": null,
      "outputs": [
        {
          "output_type": "stream",
          "name": "stdout",
          "text": [
            "[0 1 2 3 4 5 6 7 8 9]\n",
            "Input list shape:  (10,)\n",
            "[[1. 0. 0. 0. 0. 0. 0. 0. 0. 0.]\n",
            " [0. 1. 0. 0. 0. 0. 0. 0. 0. 0.]\n",
            " [0. 0. 1. 0. 0. 0. 0. 0. 0. 0.]\n",
            " [0. 0. 0. 1. 0. 0. 0. 0. 0. 0.]\n",
            " [0. 0. 0. 0. 1. 0. 0. 0. 0. 0.]\n",
            " [0. 0. 0. 0. 0. 1. 0. 0. 0. 0.]\n",
            " [0. 0. 0. 0. 0. 0. 1. 0. 0. 0.]\n",
            " [0. 0. 0. 0. 0. 0. 0. 1. 0. 0.]\n",
            " [0. 0. 0. 0. 0. 0. 0. 0. 1. 0.]\n",
            " [0. 0. 0. 0. 0. 0. 0. 0. 0. 1.]]\n",
            "Output shape:  (10, 10)\n"
          ]
        }
      ]
    },
    {
      "cell_type": "code",
      "source": [
        "# Apply to_categorical to train labels\n",
        "Y_train = to_categorical(y_train, num_classes=10)\n",
        "\n",
        "# Apply to_categorical to test labels\n",
        "Y_test = to_categorical(y_test, num_classes=10)"
      ],
      "metadata": {
        "id": "DzlABkdN_Lr-"
      },
      "execution_count": null,
      "outputs": []
    },
    {
      "cell_type": "markdown",
      "source": [
        "#Define Model"
      ],
      "metadata": {
        "id": "TjKY02DsAGly"
      }
    },
    {
      "cell_type": "code",
      "source": [
        "# Multilayer Perceptron model\n",
        "# We want to create a sequentially stacked model using Keras Sequential API\n",
        "model = Sequential()\n",
        "\n",
        "# Set up input layer\n",
        "model.add(Input(shape=(784,)))\n",
        "\n",
        "# 1st layer in the model to receive inputs\n",
        "model.add(Dense(784, activation='relu'))\n",
        "\n",
        "# Hidden layer\n",
        "model.add(Dense(625, activation='relu'))\n",
        "\n",
        "# Output layer\n",
        "model.add(Dense(10, activation='softmax'))"
      ],
      "metadata": {
        "id": "qoKfpCeQ_Lnl"
      },
      "execution_count": null,
      "outputs": []
    },
    {
      "cell_type": "markdown",
      "source": [
        "#Compile Model"
      ],
      "metadata": {
        "id": "-iOGpZhZAUtT"
      }
    },
    {
      "cell_type": "code",
      "source": [
        "# Choose learning rate\n",
        "learning_rate = 0.001\n",
        "\n",
        "# Select optimizer\n",
        "optimizer = SGD(learning_rate=learning_rate)\n",
        "\n",
        "# Select loss function\n",
        "loss = 'categorical_crossentropy'\n",
        "\n",
        "# Select evaluation metrics\n",
        "metrics = ['accuracy']\n",
        "\n",
        "# Model compilation\n",
        "model.compile(optimizer=optimizer, loss=loss, metrics=metrics)"
      ],
      "metadata": {
        "id": "444FxmR5_LjA"
      },
      "execution_count": null,
      "outputs": []
    },
    {
      "cell_type": "markdown",
      "source": [
        "#Visualize Model"
      ],
      "metadata": {
        "id": "WlEc8UpxApO3"
      }
    },
    {
      "cell_type": "code",
      "source": [
        "# A summary of inputs, outputs in each layer\n",
        "model.summary()"
      ],
      "metadata": {
        "colab": {
          "base_uri": "https://localhost:8080/"
        },
        "id": "OGj07R5tAV3K",
        "outputId": "635230f7-9351-48c1-ac39-75967dcbc628"
      },
      "execution_count": null,
      "outputs": [
        {
          "output_type": "stream",
          "name": "stdout",
          "text": [
            "Model: \"sequential_1\"\n",
            "_________________________________________________________________\n",
            " Layer (type)                Output Shape              Param #   \n",
            "=================================================================\n",
            " dense_3 (Dense)             (None, 784)               615440    \n",
            "                                                                 \n",
            " dense_4 (Dense)             (None, 625)               490625    \n",
            "                                                                 \n",
            " dense_5 (Dense)             (None, 10)                6260      \n",
            "                                                                 \n",
            "=================================================================\n",
            "Total params: 1112325 (4.24 MB)\n",
            "Trainable params: 1112325 (4.24 MB)\n",
            "Non-trainable params: 0 (0.00 Byte)\n",
            "_________________________________________________________________\n"
          ]
        }
      ]
    },
    {
      "cell_type": "code",
      "source": [
        "# Plot the model graph\n",
        "plot_model(model)"
      ],
      "metadata": {
        "colab": {
          "base_uri": "https://localhost:8080/",
          "height": 369
        },
        "id": "EnEXRRX6AV_e",
        "outputId": "4630a28f-17c9-41a3-de19-0ba4b75b8c4f"
      },
      "execution_count": null,
      "outputs": [
        {
          "output_type": "execute_result",
          "data": {
            "image/png": "[encoded data removed]",
            "text/plain": [
              "<IPython.core.display.Image object>"
            ]
          },
          "metadata": {},
          "execution_count": 81
        }
      ]
    },
    {
      "cell_type": "markdown",
      "source": [
        "#Model Training"
      ],
      "metadata": {
        "id": "WBtAhrpVBkoQ"
      }
    },
    {
      "cell_type": "code",
      "source": [
        "# Train the model\n",
        "history = model.fit(X_train, Y_train, epochs=nb_epoch, batch_size=batch_size)"
      ],
      "metadata": {
        "colab": {
          "base_uri": "https://localhost:8080/"
        },
        "id": "XwmoQIIABmnU",
        "outputId": "c82a58a8-0712-46fa-b1cf-d6e41ae4482e"
      },
      "execution_count": null,
      "outputs": [
        {
          "output_type": "stream",
          "name": "stdout",
          "text": [
            "Epoch 1/10\n",
            "469/469 [==============================] - 11s 23ms/step - loss: 2.1656 - accuracy: 0.3278\n",
            "Epoch 2/10\n",
            "469/469 [==============================] - 10s 20ms/step - loss: 1.7916 - accuracy: 0.6765\n",
            "Epoch 3/10\n",
            "469/469 [==============================] - 11s 23ms/step - loss: 1.4383 - accuracy: 0.7513\n",
            "Epoch 4/10\n",
            "469/469 [==============================] - 11s 23ms/step - loss: 1.1477 - accuracy: 0.7946\n",
            "Epoch 5/10\n",
            "469/469 [==============================] - 11s 23ms/step - loss: 0.9418 - accuracy: 0.8205\n",
            "Epoch 6/10\n",
            "469/469 [==============================] - 11s 23ms/step - loss: 0.8025 - accuracy: 0.8372\n",
            "Epoch 7/10\n",
            "469/469 [==============================] - 10s 21ms/step - loss: 0.7063 - accuracy: 0.8491\n",
            "Epoch 8/10\n",
            "469/469 [==============================] - 11s 23ms/step - loss: 0.6373 - accuracy: 0.8574\n",
            "Epoch 9/10\n",
            "469/469 [==============================] - 11s 23ms/step - loss: 0.5857 - accuracy: 0.8642\n",
            "Epoch 10/10\n",
            "469/469 [==============================] - 11s 23ms/step - loss: 0.5457 - accuracy: 0.8704\n"
          ]
        }
      ]
    },
    {
      "cell_type": "markdown",
      "source": [
        "#Inference on Test Data"
      ],
      "metadata": {
        "id": "gwNWn8D0BxGT"
      }
    },
    {
      "cell_type": "code",
      "source": [
        "# Evaluate the model\n",
        "evaluation = model.evaluate(X_test, Y_test)\n",
        "\n",
        "# Display test statistics\n",
        "print('Summary: Loss over the test dataset: %.2f, Accuracy: %.2f%%' % (evaluation[0], evaluation[1] * 100))"
      ],
      "metadata": {
        "colab": {
          "base_uri": "https://localhost:8080/"
        },
        "id": "CanBofoLBwJW",
        "outputId": "bc2f0000-2d28-4676-91fd-33bc03f95ca4"
      },
      "execution_count": null,
      "outputs": [
        {
          "output_type": "stream",
          "name": "stdout",
          "text": [
            "313/313 [==============================] - 2s 5ms/step - loss: 0.5054 - accuracy: 0.8834\n",
            "Summary: Loss over the test dataset: 0.51, Accuracy: 88.34%\n"
          ]
        }
      ]
    },
    {
      "cell_type": "code",
      "source": [
        "# Get training loss histories\n",
        "training_loss = history.history['loss']\n",
        "\n",
        "# Create count of the number of epochs\n",
        "epoch_count = range(1, len(training_loss) + 1)\n",
        "\n",
        "# Visualize loss history\n",
        "plt.plot(epoch_count, training_loss, 'r--')\n",
        "plt.legend(['Training Loss'])\n",
        "plt.xlabel('Epoch')\n",
        "plt.ylabel('Loss')\n",
        "plt.show();"
      ],
      "metadata": {
        "colab": {
          "base_uri": "https://localhost:8080/",
          "height": 449
        },
        "id": "fxMK51YXBwAx",
        "outputId": "711063e0-2858-4715-ba8b-fe8542cc3b3b"
      },
      "execution_count": null,
      "outputs": [
        {
          "output_type": "display_data",
          "data": {
            "text/plain": [
              "<Figure size 640x480 with 1 Axes>"
            ],
            "image/png": "[encoded data removed]"
          },
          "metadata": {}
        }
      ]
    },
    {
      "cell_type": "code",
      "source": [
        "# Get training accuracy histories\n",
        "training_accuracy = history.history['accuracy']\n",
        "\n",
        "# Create count of the number of epochs\n",
        "epoch_count = range(1, len(training_loss) + 1)\n",
        "\n",
        "# Visualize accuracy history\n",
        "plt.plot(epoch_count, training_accuracy, 'b-')\n",
        "plt.legend(['Training Accuracy'])\n",
        "plt.xlabel('Epoch')\n",
        "plt.ylabel('Accuracy')\n",
        "plt.show();"
      ],
      "metadata": {
        "colab": {
          "base_uri": "https://localhost:8080/",
          "height": 449
        },
        "id": "JRBcooHTDdyo",
        "outputId": "6b6b4842-f0c5-44f9-e826-209d75fbb833"
      },
      "execution_count": null,
      "outputs": [
        {
          "output_type": "display_data",
          "data": {
            "text/plain": [
              "<Figure size 640x480 with 1 Axes>"
            ],
            "image/png": "[encoded data removed]"
          },
          "metadata": {}
        }
      ]
    }
  ]
}